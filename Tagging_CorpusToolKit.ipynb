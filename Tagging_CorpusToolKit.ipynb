{
  "nbformat": 4,
  "nbformat_minor": 0,
  "metadata": {
    "colab": {
      "name": "Tagging_CorpusToolKit.ipynb",
      "provenance": [],
      "authorship_tag": "ABX9TyNnEHJ6e4iFr5ucIclF1l6/",
      "include_colab_link": true
    },
    "kernelspec": {
      "name": "python3",
      "display_name": "Python 3"
    },
    "language_info": {
      "name": "python"
    }
  },
  "cells": [
    {
      "cell_type": "markdown",
      "metadata": {
        "id": "view-in-github",
        "colab_type": "text"
      },
      "source": [
        "<a href=\"https://colab.research.google.com/github/MK316/mynltkdata/blob/main/Tagging_CorpusToolKit.ipynb\" target=\"_parent\"><img src=\"https://colab.research.google.com/assets/colab-badge.svg\" alt=\"Open In Colab\"/></a>"
      ]
    },
    {
      "cell_type": "markdown",
      "source": [
        "# English text Tagging using the Corpus Toolkit [by Kristopher Kyle](\"https://github.com/kristopherkyle/corpus_toolkit\")\n",
        "\n",
        "---\n",
        "\n",
        "For a given text, we'll create a tagged text."
      ],
      "metadata": {
        "id": "TNdYHHiLja58"
      }
    },
    {
      "cell_type": "code",
      "execution_count": 6,
      "metadata": {
        "colab": {
          "base_uri": "https://localhost:8080/"
        },
        "id": "H29JDvvZjK6n",
        "outputId": "b5d1091e-5eec-4cf7-cda6-625ed10d8fe2"
      },
      "outputs": [
        {
          "output_type": "stream",
          "name": "stdout",
          "text": [
            "Collecting corpus-toolkit\n",
            "  Downloading corpus_toolkit-0.32-py3-none-any.whl (1.7 MB)\n",
            "\u001b[K     |████████████████████████████████| 1.7 MB 5.2 MB/s \n",
            "\u001b[?25hInstalling collected packages: corpus-toolkit\n",
            "Successfully installed corpus-toolkit-0.32\n"
          ]
        }
      ],
      "source": [
        "!pip install corpus-toolkit"
      ]
    },
    {
      "cell_type": "markdown",
      "source": [
        "## [1] Create a folder named 'txtdata'\n",
        "=> Corpus Toolkit processes files under a specified folder. So we create a folder and upload files in the given folder."
      ],
      "metadata": {
        "id": "kw9AqIDEuZGs"
      }
    },
    {
      "cell_type": "code",
      "source": [
        "import os\n",
        "os.mkdir(\"txtdata\")"
      ],
      "metadata": {
        "id": "F4IUkgrGuEQW"
      },
      "execution_count": 50,
      "outputs": []
    },
    {
      "cell_type": "markdown",
      "source": [
        "## [2] File upload (on colab) under the 'txtdata' folder:\n",
        "e.g., DoveAndAnt.txt\n",
        "https://raw.githubusercontent.com/MK316/mynltkdata/main/data/DoveAndAnt.txt"
      ],
      "metadata": {
        "id": "pbQooI7rkQQP"
      }
    },
    {
      "cell_type": "markdown",
      "source": [
        "## Checking current directory & change current directory\n",
        "\n",
        "---\n",
        "Current data location: /content/txtdata/DoveAndAnt.txt\n",
        "\n",
        "Current directory should be '/content'\n",
        "and the directory to input is 'corp', where text file is located.\n"
      ],
      "metadata": {
        "id": "eIAvf9qPs4DM"
      }
    },
    {
      "cell_type": "code",
      "source": [
        "!pwd\n",
        "# %cd /content/"
      ],
      "metadata": {
        "colab": {
          "base_uri": "https://localhost:8080/"
        },
        "id": "PV8OHtE2svsX",
        "outputId": "0f6db0f2-4073-493f-cdfe-60e5475275a6"
      },
      "execution_count": 49,
      "outputs": [
        {
          "output_type": "stream",
          "name": "stdout",
          "text": [
            "/content\n"
          ]
        }
      ]
    },
    {
      "cell_type": "code",
      "source": [
        "from corpus_toolkit import corpus_tools as ct\n",
        "brown_corp = ct.ldcorpus(\"txtdata\") #load and read text files under 'txtdata' directory\n",
        "tok_corp = ct.tokenize(brown_corp) #tokenize corpus - by default this lemmatizes as well\n",
        "brown_freq = ct.frequency(tok_corp) #creates a frequency dictionary"
      ],
      "metadata": {
        "colab": {
          "base_uri": "https://localhost:8080/"
        },
        "id": "zeqch2yNmGM0",
        "outputId": "4830638e-f27a-4be2-ae40-20f16fd29dea"
      },
      "execution_count": 52,
      "outputs": [
        {
          "output_type": "stream",
          "name": "stdout",
          "text": [
            "Processing ch3B.txt (1 of 1 files)\n"
          ]
        }
      ]
    },
    {
      "cell_type": "markdown",
      "source": [
        "## Write a tagged file under '/content/tagged_txt'\n"
      ],
      "metadata": {
        "id": "R6RlPDadv0Tp"
      }
    },
    {
      "cell_type": "code",
      "source": [
        "# tagged_txt (tagged data folder), txtdata (original data folder)\n",
        "ct.write_corpus(\"tagged_txt\",ct.tag(ct.ldcorpus(\"txtdata\")))"
      ],
      "metadata": {
        "colab": {
          "base_uri": "https://localhost:8080/"
        },
        "id": "3j_TbVhImP2M",
        "outputId": "fada8dbd-5be0-4cea-ad77-11ae3a531f1f"
      },
      "execution_count": 53,
      "outputs": [
        {
          "output_type": "stream",
          "name": "stdout",
          "text": [
            "Processing ch3B.txt (1 of 1 files)\n"
          ]
        }
      ]
    },
    {
      "cell_type": "code",
      "source": [
        "tagged_freq = ct.frequency(ct.reload(\"tagged_txt\"))\n",
        "ct.head(tagged_freq, hits = 10)"
      ],
      "metadata": {
        "id": "J5RQ2WHBofP7"
      },
      "execution_count": null,
      "outputs": []
    },
    {
      "cell_type": "code",
      "source": [
        "type(tagged_freq) # dict"
      ],
      "metadata": {
        "id": "ye6IfuHdxyJK"
      },
      "execution_count": null,
      "outputs": []
    },
    {
      "cell_type": "markdown",
      "source": [
        "# Save Tagged_freq as Data frame"
      ],
      "metadata": {
        "id": "eHOLnOp2zIZ4"
      }
    },
    {
      "cell_type": "code",
      "source": [
        "import pandas as pd"
      ],
      "metadata": {
        "id": "KWChGmPgzimF"
      },
      "execution_count": 57,
      "outputs": []
    },
    {
      "cell_type": "code",
      "source": [
        "data_dict = tagged_freq\n",
        "data_items = data_dict. items()\n",
        "data_list = list(data_items)\n",
        "df = pd.DataFrame(data_list)\n",
        "print(df)"
      ],
      "metadata": {
        "colab": {
          "base_uri": "https://localhost:8080/"
        },
        "id": "3Ff1neOwx1PK",
        "outputId": "db053774-38ab-4d8f-906b-5033ae901e53"
      },
      "execution_count": 58,
      "outputs": [
        {
          "output_type": "stream",
          "name": "stdout",
          "text": [
            "                    0   1\n",
            "0         genetic_ADJ   6\n",
            "1    engineering_NOUN   2\n",
            "2            GE_PROPN   8\n",
            "3              of_ADP  27\n",
            "4           crop_NOUN  10\n",
            "..                ...  ..\n",
            "391         sound_ADJ   1\n",
            "392     judgment_NOUN   1\n",
            "393        avoid_VERB   1\n",
            "394       danger_NOUN   1\n",
            "395        enjoy_VERB   1\n",
            "\n",
            "[396 rows x 2 columns]\n"
          ]
        }
      ]
    },
    {
      "cell_type": "markdown",
      "source": [
        "# Write a tagged frequency dataframe to a csv file (on Colab)"
      ],
      "metadata": {
        "id": "Dt8juzff0xeX"
      }
    },
    {
      "cell_type": "code",
      "source": [
        "df.to_csv(r'/content/tagged.csv', index=False)"
      ],
      "metadata": {
        "id": "93eI3khd0O8p"
      },
      "execution_count": 68,
      "outputs": []
    },
    {
      "cell_type": "markdown",
      "source": [
        "# Read the tagged csv file for further process"
      ],
      "metadata": {
        "id": "beKtexDH056R"
      }
    },
    {
      "cell_type": "code",
      "source": [
        "df1 = pd.read_csv('tagged.csv') "
      ],
      "metadata": {
        "id": "kCqQoGwN0m6V"
      },
      "execution_count": 69,
      "outputs": []
    },
    {
      "cell_type": "markdown",
      "source": [
        "# Try R from here:"
      ],
      "metadata": {
        "id": "5bFxQXUoz98b"
      }
    },
    {
      "cell_type": "code",
      "source": [
        "%load_ext rpy2.ipython"
      ],
      "metadata": {
        "id": "V16lv59UztMW"
      },
      "execution_count": 59,
      "outputs": []
    },
    {
      "cell_type": "code",
      "source": [
        "%%R\n",
        "df2<-read.csv('tagged.csv')"
      ],
      "metadata": {
        "id": "-tm-m6Xg0BcO"
      },
      "execution_count": 70,
      "outputs": []
    },
    {
      "cell_type": "code",
      "source": [
        "%%R\n",
        "head(df2)"
      ],
      "metadata": {
        "colab": {
          "base_uri": "https://localhost:8080/"
        },
        "id": "2osnpBuB1y5p",
        "outputId": "b39e377a-aa8b-4631-9b2a-e02687b23deb"
      },
      "execution_count": 71,
      "outputs": [
        {
          "output_type": "stream",
          "name": "stdout",
          "text": [
            "                X0 X1\n",
            "1      genetic_ADJ  6\n",
            "2 engineering_NOUN  2\n",
            "3         GE_PROPN  8\n",
            "4           of_ADP 27\n",
            "5        crop_NOUN 10\n",
            "6        and_CCONJ 17\n"
          ]
        }
      ]
    },
    {
      "cell_type": "code",
      "source": [
        "%%R\n",
        "colnames(df3) <- c('Tagwords','Freq')\n",
        "colnames(df3)"
      ],
      "metadata": {
        "colab": {
          "base_uri": "https://localhost:8080/"
        },
        "id": "gE7u2VfI2Clo",
        "outputId": "52440dc0-ece8-46a4-ea58-08fc64b7c598"
      },
      "execution_count": 82,
      "outputs": [
        {
          "output_type": "stream",
          "name": "stdout",
          "text": [
            "[1] \"Tagwords\" \"Freq\"    \n"
          ]
        }
      ]
    },
    {
      "cell_type": "code",
      "source": [
        "%%R\n",
        "\n",
        "t1 <- df3$Tagwords\n",
        "t2<-t1[1]; t2\n",
        "# t3<-as.vector(strsplit(t2,'_')); t3\n",
        "t3<-gsub(\"[a-zA-Z]+_\",\"\",t2); t3"
      ],
      "metadata": {
        "colab": {
          "base_uri": "https://localhost:8080/"
        },
        "id": "I6DxnjJj2juT",
        "outputId": "a139f280-5ebc-427e-c800-d72a3999b918"
      },
      "execution_count": 137,
      "outputs": [
        {
          "output_type": "stream",
          "name": "stdout",
          "text": [
            "[1] \"ADJ\"\n"
          ]
        }
      ]
    },
    {
      "cell_type": "code",
      "source": [
        "%%R\n",
        "df4<-df3\n",
        "head(df4)\n",
        "pos = df4$Tagwords\n",
        "word = df4$Tagwords\n",
        "\n",
        "POS = gsub(\"[[:alnum:]|[:punct:]]+_\",\"\",pos)\n",
        "WORD = gsub(\"_[A-Z]+\",\"\",word)\n",
        "df4<-cbind.data.frame(Tagged=df3$Tagwords, Words = WORD, POS=POS, Freq=df3$Freq)\n",
        "df4"
      ],
      "metadata": {
        "id": "2fVeXzRH8Eqz"
      },
      "execution_count": null,
      "outputs": []
    },
    {
      "cell_type": "code",
      "source": [
        "%%R\n",
        "# Sort by Freq in decreasing order:\n",
        "df5<-df4[order(df4$Freq, decreasing=T),]; head(df5)\n",
        "# Save the result file in csv\n",
        "write.csv(df5, \"tagwordlist.csv\", row.names=TRUE)"
      ],
      "metadata": {
        "id": "1AOWjThR9YSE"
      },
      "execution_count": 169,
      "outputs": []
    }
  ]
}