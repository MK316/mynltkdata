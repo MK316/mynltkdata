{
  "nbformat": 4,
  "nbformat_minor": 0,
  "metadata": {
    "colab": {
      "name": "Corpus_toolkit.ipynb",
      "provenance": [],
      "authorship_tag": "ABX9TyN8vB0L184ezObUXAipCgRy",
      "include_colab_link": true
    },
    "kernelspec": {
      "name": "python3",
      "display_name": "Python 3"
    },
    "language_info": {
      "name": "python"
    }
  },
  "cells": [
    {
      "cell_type": "markdown",
      "metadata": {
        "id": "view-in-github",
        "colab_type": "text"
      },
      "source": [
        "<a href=\"https://colab.research.google.com/github/MK316/mynltkdata/blob/main/Corpus_toolkit.ipynb\" target=\"_parent\"><img src=\"https://colab.research.google.com/assets/colab-badge.svg\" alt=\"Open In Colab\"/></a>"
      ]
    },
    {
      "cell_type": "markdown",
      "source": [
        "# Corpus Toolkit: Source from Kristopher Kyle [[Github link]](\"https://github.com/kristopherkyle/corpus_toolkit\")"
      ],
      "metadata": {
        "id": "rDLFbCc458ns"
      }
    },
    {
      "cell_type": "markdown",
      "source": [
        "Module installation:"
      ],
      "metadata": {
        "id": "dHbOLQOE6iwI"
      }
    },
    {
      "cell_type": "code",
      "execution_count": 1,
      "metadata": {
        "colab": {
          "base_uri": "https://localhost:8080/"
        },
        "id": "Anraa9XB5xKW",
        "outputId": "e7ca12fd-4111-4ef9-9573-60c7e94703ba"
      },
      "outputs": [
        {
          "output_type": "stream",
          "name": "stdout",
          "text": [
            "Collecting corpus-toolkit\n",
            "  Downloading corpus_toolkit-0.32-py3-none-any.whl (1.7 MB)\n",
            "\u001b[?25l\r\u001b[K     |▏                               | 10 kB 19.9 MB/s eta 0:00:01\r\u001b[K     |▍                               | 20 kB 24.1 MB/s eta 0:00:01\r\u001b[K     |▋                               | 30 kB 27.5 MB/s eta 0:00:01\r\u001b[K     |▊                               | 40 kB 5.9 MB/s eta 0:00:01\r\u001b[K     |█                               | 51 kB 6.9 MB/s eta 0:00:01\r\u001b[K     |█▏                              | 61 kB 8.1 MB/s eta 0:00:01\r\u001b[K     |█▍                              | 71 kB 9.2 MB/s eta 0:00:01\r\u001b[K     |█▌                              | 81 kB 9.9 MB/s eta 0:00:01\r\u001b[K     |█▊                              | 92 kB 8.8 MB/s eta 0:00:01\r\u001b[K     |██                              | 102 kB 9.5 MB/s eta 0:00:01\r\u001b[K     |██                              | 112 kB 9.5 MB/s eta 0:00:01\r\u001b[K     |██▎                             | 122 kB 9.5 MB/s eta 0:00:01\r\u001b[K     |██▌                             | 133 kB 9.5 MB/s eta 0:00:01\r\u001b[K     |██▊                             | 143 kB 9.5 MB/s eta 0:00:01\r\u001b[K     |██▉                             | 153 kB 9.5 MB/s eta 0:00:01\r\u001b[K     |███                             | 163 kB 9.5 MB/s eta 0:00:01\r\u001b[K     |███▎                            | 174 kB 9.5 MB/s eta 0:00:01\r\u001b[K     |███▍                            | 184 kB 9.5 MB/s eta 0:00:01\r\u001b[K     |███▋                            | 194 kB 9.5 MB/s eta 0:00:01\r\u001b[K     |███▉                            | 204 kB 9.5 MB/s eta 0:00:01\r\u001b[K     |████                            | 215 kB 9.5 MB/s eta 0:00:01\r\u001b[K     |████▏                           | 225 kB 9.5 MB/s eta 0:00:01\r\u001b[K     |████▍                           | 235 kB 9.5 MB/s eta 0:00:01\r\u001b[K     |████▋                           | 245 kB 9.5 MB/s eta 0:00:01\r\u001b[K     |████▊                           | 256 kB 9.5 MB/s eta 0:00:01\r\u001b[K     |█████                           | 266 kB 9.5 MB/s eta 0:00:01\r\u001b[K     |█████▏                          | 276 kB 9.5 MB/s eta 0:00:01\r\u001b[K     |█████▍                          | 286 kB 9.5 MB/s eta 0:00:01\r\u001b[K     |█████▌                          | 296 kB 9.5 MB/s eta 0:00:01\r\u001b[K     |█████▊                          | 307 kB 9.5 MB/s eta 0:00:01\r\u001b[K     |██████                          | 317 kB 9.5 MB/s eta 0:00:01\r\u001b[K     |██████                          | 327 kB 9.5 MB/s eta 0:00:01\r\u001b[K     |██████▎                         | 337 kB 9.5 MB/s eta 0:00:01\r\u001b[K     |██████▌                         | 348 kB 9.5 MB/s eta 0:00:01\r\u001b[K     |██████▊                         | 358 kB 9.5 MB/s eta 0:00:01\r\u001b[K     |██████▉                         | 368 kB 9.5 MB/s eta 0:00:01\r\u001b[K     |███████                         | 378 kB 9.5 MB/s eta 0:00:01\r\u001b[K     |███████▎                        | 389 kB 9.5 MB/s eta 0:00:01\r\u001b[K     |███████▍                        | 399 kB 9.5 MB/s eta 0:00:01\r\u001b[K     |███████▋                        | 409 kB 9.5 MB/s eta 0:00:01\r\u001b[K     |███████▉                        | 419 kB 9.5 MB/s eta 0:00:01\r\u001b[K     |████████                        | 430 kB 9.5 MB/s eta 0:00:01\r\u001b[K     |████████▏                       | 440 kB 9.5 MB/s eta 0:00:01\r\u001b[K     |████████▍                       | 450 kB 9.5 MB/s eta 0:00:01\r\u001b[K     |████████▋                       | 460 kB 9.5 MB/s eta 0:00:01\r\u001b[K     |████████▊                       | 471 kB 9.5 MB/s eta 0:00:01\r\u001b[K     |█████████                       | 481 kB 9.5 MB/s eta 0:00:01\r\u001b[K     |█████████▏                      | 491 kB 9.5 MB/s eta 0:00:01\r\u001b[K     |█████████▍                      | 501 kB 9.5 MB/s eta 0:00:01\r\u001b[K     |█████████▌                      | 512 kB 9.5 MB/s eta 0:00:01\r\u001b[K     |█████████▊                      | 522 kB 9.5 MB/s eta 0:00:01\r\u001b[K     |██████████                      | 532 kB 9.5 MB/s eta 0:00:01\r\u001b[K     |██████████                      | 542 kB 9.5 MB/s eta 0:00:01\r\u001b[K     |██████████▎                     | 552 kB 9.5 MB/s eta 0:00:01\r\u001b[K     |██████████▌                     | 563 kB 9.5 MB/s eta 0:00:01\r\u001b[K     |██████████▊                     | 573 kB 9.5 MB/s eta 0:00:01\r\u001b[K     |██████████▉                     | 583 kB 9.5 MB/s eta 0:00:01\r\u001b[K     |███████████                     | 593 kB 9.5 MB/s eta 0:00:01\r\u001b[K     |███████████▎                    | 604 kB 9.5 MB/s eta 0:00:01\r\u001b[K     |███████████▍                    | 614 kB 9.5 MB/s eta 0:00:01\r\u001b[K     |███████████▋                    | 624 kB 9.5 MB/s eta 0:00:01\r\u001b[K     |███████████▉                    | 634 kB 9.5 MB/s eta 0:00:01\r\u001b[K     |████████████                    | 645 kB 9.5 MB/s eta 0:00:01\r\u001b[K     |████████████▏                   | 655 kB 9.5 MB/s eta 0:00:01\r\u001b[K     |████████████▍                   | 665 kB 9.5 MB/s eta 0:00:01\r\u001b[K     |████████████▋                   | 675 kB 9.5 MB/s eta 0:00:01\r\u001b[K     |████████████▊                   | 686 kB 9.5 MB/s eta 0:00:01\r\u001b[K     |█████████████                   | 696 kB 9.5 MB/s eta 0:00:01\r\u001b[K     |█████████████▏                  | 706 kB 9.5 MB/s eta 0:00:01\r\u001b[K     |█████████████▍                  | 716 kB 9.5 MB/s eta 0:00:01\r\u001b[K     |█████████████▌                  | 727 kB 9.5 MB/s eta 0:00:01\r\u001b[K     |█████████████▊                  | 737 kB 9.5 MB/s eta 0:00:01\r\u001b[K     |██████████████                  | 747 kB 9.5 MB/s eta 0:00:01\r\u001b[K     |██████████████                  | 757 kB 9.5 MB/s eta 0:00:01\r\u001b[K     |██████████████▎                 | 768 kB 9.5 MB/s eta 0:00:01\r\u001b[K     |██████████████▌                 | 778 kB 9.5 MB/s eta 0:00:01\r\u001b[K     |██████████████▊                 | 788 kB 9.5 MB/s eta 0:00:01\r\u001b[K     |██████████████▉                 | 798 kB 9.5 MB/s eta 0:00:01\r\u001b[K     |███████████████                 | 808 kB 9.5 MB/s eta 0:00:01\r\u001b[K     |███████████████▎                | 819 kB 9.5 MB/s eta 0:00:01\r\u001b[K     |███████████████▍                | 829 kB 9.5 MB/s eta 0:00:01\r\u001b[K     |███████████████▋                | 839 kB 9.5 MB/s eta 0:00:01\r\u001b[K     |███████████████▉                | 849 kB 9.5 MB/s eta 0:00:01\r\u001b[K     |████████████████                | 860 kB 9.5 MB/s eta 0:00:01\r\u001b[K     |████████████████▏               | 870 kB 9.5 MB/s eta 0:00:01\r\u001b[K     |████████████████▍               | 880 kB 9.5 MB/s eta 0:00:01\r\u001b[K     |████████████████▋               | 890 kB 9.5 MB/s eta 0:00:01\r\u001b[K     |████████████████▊               | 901 kB 9.5 MB/s eta 0:00:01\r\u001b[K     |█████████████████               | 911 kB 9.5 MB/s eta 0:00:01\r\u001b[K     |█████████████████▏              | 921 kB 9.5 MB/s eta 0:00:01\r\u001b[K     |█████████████████▍              | 931 kB 9.5 MB/s eta 0:00:01\r\u001b[K     |█████████████████▌              | 942 kB 9.5 MB/s eta 0:00:01\r\u001b[K     |█████████████████▊              | 952 kB 9.5 MB/s eta 0:00:01\r\u001b[K     |██████████████████              | 962 kB 9.5 MB/s eta 0:00:01\r\u001b[K     |██████████████████              | 972 kB 9.5 MB/s eta 0:00:01\r\u001b[K     |██████████████████▎             | 983 kB 9.5 MB/s eta 0:00:01\r\u001b[K     |██████████████████▌             | 993 kB 9.5 MB/s eta 0:00:01\r\u001b[K     |██████████████████▊             | 1.0 MB 9.5 MB/s eta 0:00:01\r\u001b[K     |██████████████████▉             | 1.0 MB 9.5 MB/s eta 0:00:01\r\u001b[K     |███████████████████             | 1.0 MB 9.5 MB/s eta 0:00:01\r\u001b[K     |███████████████████▎            | 1.0 MB 9.5 MB/s eta 0:00:01\r\u001b[K     |███████████████████▍            | 1.0 MB 9.5 MB/s eta 0:00:01\r\u001b[K     |███████████████████▋            | 1.1 MB 9.5 MB/s eta 0:00:01\r\u001b[K     |███████████████████▉            | 1.1 MB 9.5 MB/s eta 0:00:01\r\u001b[K     |████████████████████            | 1.1 MB 9.5 MB/s eta 0:00:01\r\u001b[K     |████████████████████▏           | 1.1 MB 9.5 MB/s eta 0:00:01\r\u001b[K     |████████████████████▍           | 1.1 MB 9.5 MB/s eta 0:00:01\r\u001b[K     |████████████████████▋           | 1.1 MB 9.5 MB/s eta 0:00:01\r\u001b[K     |████████████████████▊           | 1.1 MB 9.5 MB/s eta 0:00:01\r\u001b[K     |█████████████████████           | 1.1 MB 9.5 MB/s eta 0:00:01\r\u001b[K     |█████████████████████▏          | 1.1 MB 9.5 MB/s eta 0:00:01\r\u001b[K     |█████████████████████▍          | 1.1 MB 9.5 MB/s eta 0:00:01\r\u001b[K     |█████████████████████▌          | 1.2 MB 9.5 MB/s eta 0:00:01\r\u001b[K     |█████████████████████▊          | 1.2 MB 9.5 MB/s eta 0:00:01\r\u001b[K     |██████████████████████          | 1.2 MB 9.5 MB/s eta 0:00:01\r\u001b[K     |██████████████████████          | 1.2 MB 9.5 MB/s eta 0:00:01\r\u001b[K     |██████████████████████▎         | 1.2 MB 9.5 MB/s eta 0:00:01\r\u001b[K     |██████████████████████▌         | 1.2 MB 9.5 MB/s eta 0:00:01\r\u001b[K     |██████████████████████▊         | 1.2 MB 9.5 MB/s eta 0:00:01\r\u001b[K     |██████████████████████▉         | 1.2 MB 9.5 MB/s eta 0:00:01\r\u001b[K     |███████████████████████         | 1.2 MB 9.5 MB/s eta 0:00:01\r\u001b[K     |███████████████████████▎        | 1.2 MB 9.5 MB/s eta 0:00:01\r\u001b[K     |███████████████████████▍        | 1.3 MB 9.5 MB/s eta 0:00:01\r\u001b[K     |███████████████████████▋        | 1.3 MB 9.5 MB/s eta 0:00:01\r\u001b[K     |███████████████████████▉        | 1.3 MB 9.5 MB/s eta 0:00:01\r\u001b[K     |████████████████████████        | 1.3 MB 9.5 MB/s eta 0:00:01\r\u001b[K     |████████████████████████▏       | 1.3 MB 9.5 MB/s eta 0:00:01\r\u001b[K     |████████████████████████▍       | 1.3 MB 9.5 MB/s eta 0:00:01\r\u001b[K     |████████████████████████▋       | 1.3 MB 9.5 MB/s eta 0:00:01\r\u001b[K     |████████████████████████▊       | 1.3 MB 9.5 MB/s eta 0:00:01\r\u001b[K     |█████████████████████████       | 1.3 MB 9.5 MB/s eta 0:00:01\r\u001b[K     |█████████████████████████▏      | 1.4 MB 9.5 MB/s eta 0:00:01\r\u001b[K     |█████████████████████████▍      | 1.4 MB 9.5 MB/s eta 0:00:01\r\u001b[K     |█████████████████████████▌      | 1.4 MB 9.5 MB/s eta 0:00:01\r\u001b[K     |█████████████████████████▊      | 1.4 MB 9.5 MB/s eta 0:00:01\r\u001b[K     |██████████████████████████      | 1.4 MB 9.5 MB/s eta 0:00:01\r\u001b[K     |██████████████████████████      | 1.4 MB 9.5 MB/s eta 0:00:01\r\u001b[K     |██████████████████████████▎     | 1.4 MB 9.5 MB/s eta 0:00:01\r\u001b[K     |██████████████████████████▌     | 1.4 MB 9.5 MB/s eta 0:00:01\r\u001b[K     |██████████████████████████▊     | 1.4 MB 9.5 MB/s eta 0:00:01\r\u001b[K     |██████████████████████████▉     | 1.4 MB 9.5 MB/s eta 0:00:01\r\u001b[K     |███████████████████████████     | 1.5 MB 9.5 MB/s eta 0:00:01\r\u001b[K     |███████████████████████████▎    | 1.5 MB 9.5 MB/s eta 0:00:01\r\u001b[K     |███████████████████████████▍    | 1.5 MB 9.5 MB/s eta 0:00:01\r\u001b[K     |███████████████████████████▋    | 1.5 MB 9.5 MB/s eta 0:00:01\r\u001b[K     |███████████████████████████▉    | 1.5 MB 9.5 MB/s eta 0:00:01\r\u001b[K     |████████████████████████████    | 1.5 MB 9.5 MB/s eta 0:00:01\r\u001b[K     |████████████████████████████▏   | 1.5 MB 9.5 MB/s eta 0:00:01\r\u001b[K     |████████████████████████████▍   | 1.5 MB 9.5 MB/s eta 0:00:01\r\u001b[K     |████████████████████████████▋   | 1.5 MB 9.5 MB/s eta 0:00:01\r\u001b[K     |████████████████████████████▊   | 1.5 MB 9.5 MB/s eta 0:00:01\r\u001b[K     |█████████████████████████████   | 1.6 MB 9.5 MB/s eta 0:00:01\r\u001b[K     |█████████████████████████████▏  | 1.6 MB 9.5 MB/s eta 0:00:01\r\u001b[K     |█████████████████████████████▍  | 1.6 MB 9.5 MB/s eta 0:00:01\r\u001b[K     |█████████████████████████████▌  | 1.6 MB 9.5 MB/s eta 0:00:01\r\u001b[K     |█████████████████████████████▊  | 1.6 MB 9.5 MB/s eta 0:00:01\r\u001b[K     |██████████████████████████████  | 1.6 MB 9.5 MB/s eta 0:00:01\r\u001b[K     |██████████████████████████████  | 1.6 MB 9.5 MB/s eta 0:00:01\r\u001b[K     |██████████████████████████████▎ | 1.6 MB 9.5 MB/s eta 0:00:01\r\u001b[K     |██████████████████████████████▌ | 1.6 MB 9.5 MB/s eta 0:00:01\r\u001b[K     |██████████████████████████████▊ | 1.6 MB 9.5 MB/s eta 0:00:01\r\u001b[K     |██████████████████████████████▉ | 1.7 MB 9.5 MB/s eta 0:00:01\r\u001b[K     |███████████████████████████████ | 1.7 MB 9.5 MB/s eta 0:00:01\r\u001b[K     |███████████████████████████████▎| 1.7 MB 9.5 MB/s eta 0:00:01\r\u001b[K     |███████████████████████████████▍| 1.7 MB 9.5 MB/s eta 0:00:01\r\u001b[K     |███████████████████████████████▋| 1.7 MB 9.5 MB/s eta 0:00:01\r\u001b[K     |███████████████████████████████▉| 1.7 MB 9.5 MB/s eta 0:00:01\r\u001b[K     |████████████████████████████████| 1.7 MB 9.5 MB/s \n",
            "\u001b[?25hInstalling collected packages: corpus-toolkit\n",
            "Successfully installed corpus-toolkit-0.32\n"
          ]
        }
      ],
      "source": [
        "!pip install corpus-toolkit"
      ]
    },
    {
      "cell_type": "markdown",
      "source": [
        "Note: 1) We need brown_single.zip [download here](\"https://github.com/kristopherkyle/Corpus-Methods-Intro/blob/master/Course-Materials/brown_single.zip?raw=true\")  2) The folder \"brown_single\" should be in your working directory: Below we clone github for the data.\n",
        "\n",
        "Step 1. upload brown_single folder to your github\n",
        "\n",
        "Step 2. clone github folder as follows\n"
      ],
      "metadata": {
        "id": "63_yzx-o6pY-"
      }
    },
    {
      "cell_type": "code",
      "source": [
        "# !git clone https://github.com/youraccountname/repositoryname/brown_single.git\n",
        "!git clone https://github.com/MK316/mynltkdata.git"
      ],
      "metadata": {
        "colab": {
          "base_uri": "https://localhost:8080/"
        },
        "id": "eg5Nda_79s-x",
        "outputId": "b7291ed9-04b6-43db-fefc-b6f200403ad5"
      },
      "execution_count": 3,
      "outputs": [
        {
          "output_type": "stream",
          "name": "stdout",
          "text": [
            "Cloning into 'mynltkdata'...\n",
            "remote: Enumerating objects: 503, done.\u001b[K\n",
            "remote: Counting objects:   0% (1/187)\u001b[K\rremote: Counting objects:   1% (2/187)\u001b[K\rremote: Counting objects:   2% (4/187)\u001b[K\rremote: Counting objects:   3% (6/187)\u001b[K\rremote: Counting objects:   4% (8/187)\u001b[K\rremote: Counting objects:   5% (10/187)\u001b[K\rremote: Counting objects:   6% (12/187)\u001b[K\rremote: Counting objects:   7% (14/187)\u001b[K\rremote: Counting objects:   8% (15/187)\u001b[K\rremote: Counting objects:   9% (17/187)\u001b[K\rremote: Counting objects:  10% (19/187)\u001b[K\rremote: Counting objects:  11% (21/187)\u001b[K\rremote: Counting objects:  12% (23/187)\u001b[K\rremote: Counting objects:  13% (25/187)\u001b[K\rremote: Counting objects:  14% (27/187)\u001b[K\rremote: Counting objects:  15% (29/187)\u001b[K\rremote: Counting objects:  16% (30/187)\u001b[K\rremote: Counting objects:  17% (32/187)\u001b[K\rremote: Counting objects:  18% (34/187)\u001b[K\rremote: Counting objects:  19% (36/187)\u001b[K\rremote: Counting objects:  20% (38/187)\u001b[K\rremote: Counting objects:  21% (40/187)\u001b[K\rremote: Counting objects:  22% (42/187)\u001b[K\rremote: Counting objects:  23% (44/187)\u001b[K\rremote: Counting objects:  24% (45/187)\u001b[K\rremote: Counting objects:  25% (47/187)\u001b[K\rremote: Counting objects:  26% (49/187)\u001b[K\rremote: Counting objects:  27% (51/187)\u001b[K\rremote: Counting objects:  28% (53/187)\u001b[K\rremote: Counting objects:  29% (55/187)\u001b[K\rremote: Counting objects:  30% (57/187)\u001b[K\rremote: Counting objects:  31% (58/187)\u001b[K\rremote: Counting objects:  32% (60/187)\u001b[K\rremote: Counting objects:  33% (62/187)\u001b[K\rremote: Counting objects:  34% (64/187)\u001b[K\rremote: Counting objects:  35% (66/187)\u001b[K\rremote: Counting objects:  36% (68/187)\u001b[K\rremote: Counting objects:  37% (70/187)\u001b[K\rremote: Counting objects:  38% (72/187)\u001b[K\rremote: Counting objects:  39% (73/187)\u001b[K\rremote: Counting objects:  40% (75/187)\u001b[K\rremote: Counting objects:  41% (77/187)\u001b[K\rremote: Counting objects:  42% (79/187)\u001b[K\rremote: Counting objects:  43% (81/187)\u001b[K\rremote: Counting objects:  44% (83/187)\u001b[K\rremote: Counting objects:  45% (85/187)\u001b[K\rremote: Counting objects:  46% (87/187)\u001b[K\rremote: Counting objects:  47% (88/187)\u001b[K\rremote: Counting objects:  48% (90/187)\u001b[K\rremote: Counting objects:  49% (92/187)\u001b[K\rremote: Counting objects:  50% (94/187)\u001b[K\rremote: Counting objects:  51% (96/187)\u001b[K\rremote: Counting objects:  52% (98/187)\u001b[K\rremote: Counting objects:  53% (100/187)\u001b[K\rremote: Counting objects:  54% (101/187)\u001b[K\rremote: Counting objects:  55% (103/187)\u001b[K\rremote: Counting objects:  56% (105/187)\u001b[K\rremote: Counting objects:  57% (107/187)\u001b[K\rremote: Counting objects:  58% (109/187)\u001b[K\rremote: Counting objects:  59% (111/187)\u001b[K\rremote: Counting objects:  60% (113/187)\u001b[K\rremote: Counting objects:  61% (115/187)\u001b[K\rremote: Counting objects:  62% (116/187)\u001b[K\rremote: Counting objects:  63% (118/187)\u001b[K\rremote: Counting objects:  64% (120/187)\u001b[K\rremote: Counting objects:  65% (122/187)\u001b[K\rremote: Counting objects:  66% (124/187)\u001b[K\rremote: Counting objects:  67% (126/187)\u001b[K\rremote: Counting objects:  68% (128/187)\u001b[K\rremote: Counting objects:  69% (130/187)\u001b[K\rremote: Counting objects:  70% (131/187)\u001b[K\rremote: Counting objects:  71% (133/187)\u001b[K\rremote: Counting objects:  72% (135/187)\u001b[K\rremote: Counting objects:  73% (137/187)\u001b[K\rremote: Counting objects:  74% (139/187)\u001b[K\rremote: Counting objects:  75% (141/187)\u001b[K\rremote: Counting objects:  76% (143/187)\u001b[K\rremote: Counting objects:  77% (144/187)\u001b[K\rremote: Counting objects:  78% (146/187)\u001b[K\rremote: Counting objects:  79% (148/187)\u001b[K\rremote: Counting objects:  80% (150/187)\u001b[K\rremote: Counting objects:  81% (152/187)\u001b[K\rremote: Counting objects:  82% (154/187)\u001b[K\rremote: Counting objects:  83% (156/187)\u001b[K\rremote: Counting objects:  84% (158/187)\u001b[K\rremote: Counting objects:  85% (159/187)\u001b[K\rremote: Counting objects:  86% (161/187)\u001b[K\rremote: Counting objects:  87% (163/187)\u001b[K\rremote: Counting objects:  88% (165/187)\u001b[K\rremote: Counting objects:  89% (167/187)\u001b[K\rremote: Counting objects:  90% (169/187)\u001b[K\rremote: Counting objects:  91% (171/187)\u001b[K\rremote: Counting objects:  92% (173/187)\u001b[K\rremote: Counting objects:  93% (174/187)\u001b[K\rremote: Counting objects:  94% (176/187)\u001b[K\rremote: Counting objects:  95% (178/187)\u001b[K\rremote: Counting objects:  96% (180/187)\u001b[K\rremote: Counting objects:  97% (182/187)\u001b[K\rremote: Counting objects:  98% (184/187)\u001b[K\rremote: Counting objects:  99% (186/187)\u001b[K\rremote: Counting objects: 100% (187/187)\u001b[K\rremote: Counting objects: 100% (187/187), done.\u001b[K\n",
            "remote: Compressing objects: 100% (187/187), done.\u001b[K\n",
            "remote: Total 503 (delta 2), reused 182 (delta 0), pack-reused 316\u001b[K\n",
            "Receiving objects: 100% (503/503), 2.34 MiB | 19.62 MiB/s, done.\n",
            "Resolving deltas: 100% (5/5), done.\n"
          ]
        }
      ]
    },
    {
      "cell_type": "markdown",
      "source": [
        "(Before changing working directory, check whether the folder (repository) is properly cloned on the left Files panel.\n",
        "\n",
        "Step 3. Directory change: %cd /content/repositoryname/\n"
      ],
      "metadata": {
        "id": "eoi4hZ8tBYzc"
      }
    },
    {
      "cell_type": "code",
      "source": [
        "%cd /content/mynltkdata/"
      ],
      "metadata": {
        "colab": {
          "base_uri": "https://localhost:8080/"
        },
        "id": "3jaU4Sqm-4Z8",
        "outputId": "def7d527-edd0-4033-ffc1-4f2ca7ebd7fb"
      },
      "execution_count": 4,
      "outputs": [
        {
          "output_type": "stream",
          "name": "stdout",
          "text": [
            "/content/mynltkdata\n"
          ]
        }
      ]
    },
    {
      "cell_type": "markdown",
      "source": [
        "Check current working directory: !pwd"
      ],
      "metadata": {
        "id": "RjrqTDNAB121"
      }
    },
    {
      "cell_type": "code",
      "source": [
        "!pwd"
      ],
      "metadata": {
        "colab": {
          "base_uri": "https://localhost:8080/"
        },
        "id": "__teVkXq_aKK",
        "outputId": "bea69233-4e0c-40c0-94eb-ca65a690dc12"
      },
      "execution_count": 5,
      "outputs": [
        {
          "output_type": "stream",
          "name": "stdout",
          "text": [
            "/content/mynltkdata\n"
          ]
        }
      ]
    },
    {
      "cell_type": "markdown",
      "source": [
        "## Load, tokenize, and generate a frequency list"
      ],
      "metadata": {
        "id": "EzbO8FKEB8T1"
      }
    },
    {
      "cell_type": "code",
      "source": [
        "from corpus_toolkit import corpus_tools as ct\n",
        "brown_corp = ct.ldcorpus(\"brown_single\") #load and read corpus\n",
        "tok_corp = ct.tokenize(brown_corp) #tokenize corpus - by default this lemmatizes as well\n",
        "brown_freq = ct.frequency(tok_corp) #creates a frequency dictionary"
      ],
      "metadata": {
        "id": "Sed7BTwb6h7M"
      },
      "execution_count": null,
      "outputs": []
    },
    {
      "cell_type": "code",
      "source": [
        "#note that range can be calculated instead of frequency using the argument calc = \"range\"\n",
        "ct.head(brown_freq, hits = 10) #print top 10 items"
      ],
      "metadata": {
        "colab": {
          "base_uri": "https://localhost:8080/"
        },
        "id": "Hda7TU7Q_Spn",
        "outputId": "90292a42-3ae6-44a6-996a-7487a6709bb4"
      },
      "execution_count": 7,
      "outputs": [
        {
          "output_type": "stream",
          "name": "stdout",
          "text": [
            "the\t66895\n",
            "be\t35683\n",
            "of\t35064\n",
            "a\t28715\n",
            "and\t27122\n",
            "to\t24679\n",
            "in\t20353\n",
            "he\t17675\n",
            "have\t11008\n",
            "it\t10158\n"
          ]
        }
      ]
    },
    {
      "cell_type": "code",
      "source": [
        "brown_freq = ct.frequency(ct.tokenize(ct.ldcorpus(\"brown_single\")))\n",
        "ct.head(brown_freq, hits = 20)"
      ],
      "metadata": {
        "id": "CqWuAIl6HxQ4"
      },
      "execution_count": null,
      "outputs": []
    }
  ]
}