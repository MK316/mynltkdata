{
  "nbformat": 4,
  "nbformat_minor": 0,
  "metadata": {
    "colab": {
      "name": "Corpus_toolkit.ipynb",
      "provenance": [],
      "authorship_tag": "ABX9TyPDXem3HayW8KeaZZ8fbvj9",
      "include_colab_link": true
    },
    "kernelspec": {
      "name": "python3",
      "display_name": "Python 3"
    },
    "language_info": {
      "name": "python"
    }
  },
  "cells": [
    {
      "cell_type": "markdown",
      "metadata": {
        "id": "view-in-github",
        "colab_type": "text"
      },
      "source": [
        "<a href=\"https://colab.research.google.com/github/MK316/mynltkdata/blob/main/Corpus_toolkit.ipynb\" target=\"_parent\"><img src=\"https://colab.research.google.com/assets/colab-badge.svg\" alt=\"Open In Colab\"/></a>"
      ]
    },
    {
      "cell_type": "markdown",
      "source": [
        "# Corpus Toolkit: Source from Kristopher Kyle [[Github link]](\"https://github.com/kristopherkyle/corpus_toolkit\")"
      ],
      "metadata": {
        "id": "rDLFbCc458ns"
      }
    },
    {
      "cell_type": "markdown",
      "source": [
        "Module installation:"
      ],
      "metadata": {
        "id": "dHbOLQOE6iwI"
      }
    },
    {
      "cell_type": "code",
      "execution_count": 1,
      "metadata": {
        "colab": {
          "base_uri": "https://localhost:8080/"
        },
        "id": "Anraa9XB5xKW",
        "outputId": "75fecf6f-0a08-4abb-c77f-49abb69a92db"
      },
      "outputs": [
        {
          "output_type": "stream",
          "name": "stdout",
          "text": [
            "Collecting corpus-toolkit\n",
            "  Downloading corpus_toolkit-0.32-py3-none-any.whl (1.7 MB)\n",
            "\u001b[K     |████████████████████████████████| 1.7 MB 6.1 MB/s \n",
            "\u001b[?25hInstalling collected packages: corpus-toolkit\n",
            "Successfully installed corpus-toolkit-0.32\n"
          ]
        }
      ],
      "source": [
        "!pip install corpus-toolkit"
      ]
    },
    {
      "cell_type": "markdown",
      "source": [
        "- We need brown_single.zip [download here](\"https://github.com/kristopherkyle/Corpus-Methods-Intro/blob/master/Course-Materials/brown_single.zip?raw=true\")\n",
        "- The folder \"brown_single\" should be in your working directory: we can use github clone.\n",
        "\n",
        "Step 1. upload brown_single folder to your github\n",
        "\n",
        "Step 2. clone github folder as follows\n"
      ],
      "metadata": {
        "id": "63_yzx-o6pY-"
      }
    },
    {
      "cell_type": "code",
      "source": [
        "# !git clone https://github.com/youraccountname/repositoryname/brown_single.git\n",
        "!git clone https://github.com/MK316/mynltkdata/brown_single.git"
      ],
      "metadata": {
        "colab": {
          "base_uri": "https://localhost:8080/"
        },
        "id": "eg5Nda_79s-x",
        "outputId": "180be5b0-8a48-4782-8ba3-c9e89338160f"
      },
      "execution_count": 40,
      "outputs": [
        {
          "output_type": "stream",
          "name": "stdout",
          "text": [
            "fatal: destination path 'brown_single' already exists and is not an empty directory.\n"
          ]
        }
      ]
    },
    {
      "cell_type": "markdown",
      "source": [
        "(Before changing working directory, check whether the folder (repository) is properly cloned on the left Files panel.\n",
        "\n",
        "Step 3. Directory change: %cd /content/repositoryname/\n"
      ],
      "metadata": {
        "id": "eoi4hZ8tBYzc"
      }
    },
    {
      "cell_type": "code",
      "source": [
        "%cd /content/mynltkdata/"
      ],
      "metadata": {
        "colab": {
          "base_uri": "https://localhost:8080/"
        },
        "id": "3jaU4Sqm-4Z8",
        "outputId": "da6e2baf-11a2-4f06-b995-83fd3e41330b"
      },
      "execution_count": 35,
      "outputs": [
        {
          "output_type": "stream",
          "name": "stdout",
          "text": [
            "/content/mynltkdata\n"
          ]
        }
      ]
    },
    {
      "cell_type": "markdown",
      "source": [
        "Check current working directory: !pwd"
      ],
      "metadata": {
        "id": "RjrqTDNAB121"
      }
    },
    {
      "cell_type": "code",
      "source": [
        "!pwd"
      ],
      "metadata": {
        "colab": {
          "base_uri": "https://localhost:8080/"
        },
        "id": "__teVkXq_aKK",
        "outputId": "47308c48-b84f-4613-eec0-9d8073dd7e46"
      },
      "execution_count": 36,
      "outputs": [
        {
          "output_type": "stream",
          "name": "stdout",
          "text": [
            "/content/mynltkdata\n"
          ]
        }
      ]
    },
    {
      "cell_type": "code",
      "source": [
        "import nltk.corpus"
      ],
      "metadata": {
        "id": "bdk3INApC5v9"
      },
      "execution_count": 31,
      "outputs": []
    },
    {
      "cell_type": "code",
      "source": [
        "print(str(nltk.corpus.brown).replace('\\\\\\\\','/'))"
      ],
      "metadata": {
        "colab": {
          "base_uri": "https://localhost:8080/"
        },
        "id": "fpwAquLNDVKj",
        "outputId": "467bd5f1-4870-401e-ff36-4fe10e37a6c2"
      },
      "execution_count": 33,
      "outputs": [
        {
          "output_type": "stream",
          "name": "stdout",
          "text": [
            "<CategorizedTaggedCorpusReader in '.../corpora/brown' (not loaded yet)>\n"
          ]
        }
      ]
    },
    {
      "cell_type": "markdown",
      "source": [
        "## Load, tokenize, and generate a frequency list"
      ],
      "metadata": {
        "id": "EzbO8FKEB8T1"
      }
    },
    {
      "cell_type": "code",
      "source": [
        "from corpus_toolkit import corpus_tools as ct\n",
        "brown_corp = ct.ldcorpus(\"brown_single\") #load and read corpus\n",
        "tok_corp = ct.tokenize(brown_corp) #tokenize corpus - by default this lemmatizes as well\n",
        "brown_freq = ct.frequency(tok_corp) #creates a frequency dictionary\n",
        "#note that range can be calculated instead of frequency using the argument calc = \"range\"\n",
        "ct.head(brown_freq, hits = 10) #print top 10 items"
      ],
      "metadata": {
        "colab": {
          "base_uri": "https://localhost:8080/"
        },
        "id": "Sed7BTwb6h7M",
        "outputId": "2dc6bd2c-e452-4fbe-ed12-20fce689540b"
      },
      "execution_count": 39,
      "outputs": [
        {
          "output_type": "stream",
          "name": "stdout",
          "text": [
            "Processing cb_cb15.txt (1 of 81 files)\n",
            "Processing ca_ca04.txt (2 of 81 files)\n",
            "Processing ca_ca44.txt (3 of 81 files)\n",
            "Processing ca_ca35.txt (4 of 81 files)\n",
            "Processing cb_cb17.txt (5 of 81 files)\n",
            "Processing cb_cb26.txt (6 of 81 files)\n",
            "Processing ca_ca14.txt (7 of 81 files)\n",
            "Processing cb_cb07.txt (8 of 81 files)\n",
            "Processing ca_ca05.txt (9 of 81 files)\n",
            "Processing ca_ca42.txt (10 of 81 files)\n",
            "Processing ca_ca27.txt (11 of 81 files)\n",
            "Processing ca_ca26.txt (12 of 81 files)\n",
            "Processing ca_ca39.txt (13 of 81 files)\n",
            "Processing ca_ca40.txt (14 of 81 files)\n",
            "Processing cc_cc07.txt (15 of 81 files)\n",
            "Processing ca_ca13.txt (16 of 81 files)\n",
            "Processing ca_ca37.txt (17 of 81 files)\n",
            "Processing cb_cb23.txt (18 of 81 files)\n",
            "Processing cc_cc02.txt (19 of 81 files)\n",
            "Processing ca_ca12.txt (20 of 81 files)\n",
            "Processing cb_cb19.txt (21 of 81 files)\n",
            "Processing cc_cc08.txt (22 of 81 files)\n",
            "Processing cb_cb03.txt (23 of 81 files)\n",
            "Processing ca_ca18.txt (24 of 81 files)\n",
            "Processing cc_cc04.txt (25 of 81 files)\n",
            "Processing cc_cc10.txt (26 of 81 files)\n",
            "Processing cc_cc01.txt (27 of 81 files)\n",
            "Processing ca_ca02.txt (28 of 81 files)\n",
            "Processing cb_cb25.txt (29 of 81 files)\n",
            "Processing cb_cb04.txt (30 of 81 files)\n",
            "Processing ca_ca34.txt (31 of 81 files)\n",
            "Processing cb_cb08.txt (32 of 81 files)\n",
            "Processing cb_cb02.txt (33 of 81 files)\n",
            "Processing ca_ca30.txt (34 of 81 files)\n",
            "Processing ca_ca36.txt (35 of 81 files)\n",
            "Processing ca_ca10.txt (36 of 81 files)\n",
            "Processing cc_cc05.txt (37 of 81 files)\n",
            "Processing cb_cb11.txt (38 of 81 files)\n",
            "Processing ca_ca19.txt (39 of 81 files)\n",
            "Processing cb_cb18.txt (40 of 81 files)\n",
            "Processing cb_cb01.txt (41 of 81 files)\n",
            "Processing ca_ca20.txt (42 of 81 files)\n",
            "Processing cb_cb16.txt (43 of 81 files)\n",
            "Processing ca_ca21.txt (44 of 81 files)\n",
            "Processing ca_ca11.txt (45 of 81 files)\n",
            "Processing ca_ca29.txt (46 of 81 files)\n",
            "Processing ca_ca41.txt (47 of 81 files)\n",
            "Processing ca_ca24.txt (48 of 81 files)\n",
            "Processing ca_ca25.txt (49 of 81 files)\n",
            "Processing ca_ca08.txt (50 of 81 files)\n",
            "Processing ca_ca43.txt (51 of 81 files)\n",
            "Processing ca_ca31.txt (52 of 81 files)\n",
            "Processing cb_cb22.txt (53 of 81 files)\n",
            "Processing cb_cb20.txt (54 of 81 files)\n",
            "Processing ca_ca32.txt (55 of 81 files)\n",
            "Processing ca_ca33.txt (56 of 81 files)\n",
            "Processing cb_cb13.txt (57 of 81 files)\n",
            "Processing ca_ca38.txt (58 of 81 files)\n",
            "Processing cb_cb12.txt (59 of 81 files)\n",
            "Processing cc_cc06.txt (60 of 81 files)\n",
            "Processing ca_ca09.txt (61 of 81 files)\n",
            "Processing ca_ca06.txt (62 of 81 files)\n",
            "Processing ca_ca07.txt (63 of 81 files)\n",
            "Processing ca_ca23.txt (64 of 81 files)\n",
            "Processing cc_cc03.txt (65 of 81 files)\n",
            "Processing cb_cb10.txt (66 of 81 files)\n",
            "Processing ca_ca16.txt (67 of 81 files)\n",
            "Processing cc_cc09.txt (68 of 81 files)\n",
            "Processing cb_cb09.txt (69 of 81 files)\n",
            "Processing cb_cb05.txt (70 of 81 files)\n",
            "Processing cb_cb24.txt (71 of 81 files)\n",
            "Processing ca_ca03.txt (72 of 81 files)\n",
            "Processing ca_ca22.txt (73 of 81 files)\n",
            "Processing ca_ca28.txt (74 of 81 files)\n",
            "Processing ca_ca17.txt (75 of 81 files)\n",
            "Processing cb_cb14.txt (76 of 81 files)\n",
            "Processing ca_ca01.txt (77 of 81 files)\n",
            "Processing cb_cb27.txt (78 of 81 files)\n",
            "Processing ca_ca15.txt (79 of 81 files)\n",
            "Processing cb_cb06.txt (80 of 81 files)\n",
            "Processing cb_cb21.txt (81 of 81 files)\n",
            "the\t11725\n",
            "be\t5784\n",
            "of\t5639\n",
            "a\t4964\n",
            "and\t4241\n",
            "to\t4144\n",
            "in\t3538\n",
            "he\t2270\n",
            "have\t1796\n",
            "for\t1670\n"
          ]
        }
      ]
    },
    {
      "cell_type": "code",
      "source": [
        "!pwd"
      ],
      "metadata": {
        "colab": {
          "base_uri": "https://localhost:8080/"
        },
        "id": "Hda7TU7Q_Spn",
        "outputId": "06d8a820-fa3f-4fa4-af8e-d08d188ebe41"
      },
      "execution_count": 13,
      "outputs": [
        {
          "output_type": "stream",
          "name": "stdout",
          "text": [
            "/content\n"
          ]
        }
      ]
    }
  ]
}