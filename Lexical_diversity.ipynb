{
  "nbformat": 4,
  "nbformat_minor": 0,
  "metadata": {
    "colab": {
      "name": "Lexical_diversity.ipynb",
      "provenance": [],
      "authorship_tag": "ABX9TyNTOromitg+YcE+hb7amaHp",
      "include_colab_link": true
    },
    "kernelspec": {
      "name": "python3",
      "display_name": "Python 3"
    },
    "language_info": {
      "name": "python"
    }
  },
  "cells": [
    {
      "cell_type": "markdown",
      "metadata": {
        "id": "view-in-github",
        "colab_type": "text"
      },
      "source": [
        "<a href=\"https://colab.research.google.com/github/MK316/mynltkdata/blob/main/Lexical_diversity.ipynb\" target=\"_parent\"><img src=\"https://colab.research.google.com/assets/colab-badge.svg\" alt=\"Open In Colab\"/></a>"
      ]
    },
    {
      "cell_type": "markdown",
      "source": [
        "# [Lexical Diversity (LD)](\"https://textinspector.com/help/lexical-diversity/\")\n",
        "- Lexical diversity index: It is a measurement of how many different lexical words (N, V, Adv, Advj) are found in a given text.\n",
        "- LD is considered as one of the important indicators of how complex and difficult to read a given text is.\n",
        "\n",
        "[Duran et al. 2004](\"https://psycnet.apa.org/record/2004-95315-004\"): “…lexical diversity is about more than vocabulary range.  Alternative terms, ‘flexibility’, ‘vocabulary richness’, ‘verbal creativity’, or ‘lexical range and balance’ indicate that it has to do with how vocabulary is deployed as well as how large the vocabulary might be.” \n",
        "[D scale from (Duran, Malvern, Richards, Chipere 2004:238)] (\"https://textinspector.com/wp-content/uploads/2020/12/VocD-comparison-1.jpeg\")"
      ],
      "metadata": {
        "id": "EFdRSccoaf0p"
      }
    },
    {
      "cell_type": "markdown",
      "source": [
        "# Package to install and import"
      ],
      "metadata": {
        "id": "BT2omns8cAU2"
      }
    },
    {
      "cell_type": "code",
      "execution_count": 1,
      "metadata": {
        "id": "oZJw4xBlacJJ",
        "outputId": "6bd0070e-ec1e-43b9-835e-f7aab7b83faa",
        "colab": {
          "base_uri": "https://localhost:8080/"
        }
      },
      "outputs": [
        {
          "output_type": "stream",
          "name": "stdout",
          "text": [
            "Collecting lexical-diversity\n",
            "  Downloading lexical_diversity-0.1.1-py3-none-any.whl (117 kB)\n",
            "\u001b[?25l\r\u001b[K     |██▉                             | 10 kB 14.7 MB/s eta 0:00:01\r\u001b[K     |█████▋                          | 20 kB 8.2 MB/s eta 0:00:01\r\u001b[K     |████████▍                       | 30 kB 6.2 MB/s eta 0:00:01\r\u001b[K     |███████████▏                    | 40 kB 3.4 MB/s eta 0:00:01\r\u001b[K     |██████████████                  | 51 kB 3.3 MB/s eta 0:00:01\r\u001b[K     |████████████████▊               | 61 kB 4.0 MB/s eta 0:00:01\r\u001b[K     |███████████████████▌            | 71 kB 4.2 MB/s eta 0:00:01\r\u001b[K     |██████████████████████▎         | 81 kB 4.7 MB/s eta 0:00:01\r\u001b[K     |█████████████████████████       | 92 kB 4.9 MB/s eta 0:00:01\r\u001b[K     |███████████████████████████▉    | 102 kB 3.9 MB/s eta 0:00:01\r\u001b[K     |██████████████████████████████▋ | 112 kB 3.9 MB/s eta 0:00:01\r\u001b[K     |████████████████████████████████| 117 kB 3.9 MB/s \n",
            "\u001b[?25hInstalling collected packages: lexical-diversity\n",
            "Successfully installed lexical-diversity-0.1.1\n"
          ]
        }
      ],
      "source": [
        "!pip install lexical-diversity"
      ]
    },
    {
      "cell_type": "code",
      "source": [
        "from lexical_diversity import lex_div as ld"
      ],
      "metadata": {
        "id": "fFTaWF4zcUwl"
      },
      "execution_count": 2,
      "outputs": []
    },
    {
      "cell_type": "markdown",
      "source": [
        "## Paste your text:"
      ],
      "metadata": {
        "id": "MUZeMgIZcbMK"
      }
    },
    {
      "cell_type": "code",
      "source": [
        "text = \"\"\"A Dove saw an Ant fall into a brook. The Ant struggled in vain to reach the bank, \\\n",
        "and in pity, the Dove dropped a blade of straw close beside it. Clinging to the straw like a shipwrecked sailor to a broken spar, \\\n",
        "the Ant floated safely to shore. Soon after, the Ant saw a man getting ready to kill the Dove with a stone. \\\n",
        "But just as he cast the stone, the Ant stung him in the heel, so that the pain made him miss his aim, \\\n",
        "and the startled Dove flew to safety in a distant wood.\n",
        "\"\"\""
      ],
      "metadata": {
        "id": "IEjTJDscck_y"
      },
      "execution_count": 3,
      "outputs": []
    },
    {
      "cell_type": "code",
      "source": [
        "text = \"\"\"Living light\n",
        "The ability of some species to create light, known as bioluminescence, is both magical and commonplace. Magical, because of its glimmering beauty. Commonplace, because many life forms can do it. On land the most familiar examples are fireflies, flashing to attract mates on a warm summer night. But there are other luminous land organisms, including glow-worms, millipedes, and some ninety species of fungus. Even some birds, such as the Atlantic puffin, have beaks that glow in the dark.\n",
        "But the real biological light show takes place in the sea. Here, an astonishing number of beings can make light. Some, such as ostracods, are like ocean fireflies, using flashes of light to attract mate. There are also glowing bacteria, and light-making fish, squid, and jellyfish. Indeed, of all the groups of organisms known to make light, more than four-fifths live in the ocean.\n",
        "As a place to live, the ocean has a couple of peculiarities. Firstly, there is almost nowhere to hide, so being invisible is very important. Secondly, as you descend, sunlight disappears. At first, red light is absorbed. Then the yellow and green parts of the spectrum disappear, leaving just the blue. At two-hundred meters below the surface, the ocean becomes a kind of perpetual twilight, and at six-hundred meters the blue fades out too. In fact, most of the ocean is as black as the night sky. These factors make light uniquely useful as a weapon or a veil.\n",
        "Hiding with light\n",
        "In the ocean’s upper layers, where light penetrates, creatures need to blend in to survive. Any life form that stands out is in danger of being spotted by predators, especially those swimming below, looking up. Many life forms solve this problem by avoiding the light zone during the day. Others, such as jellyfish and swimming snails, are transparent, ghostlike creatures, almost impossible to see.\n",
        "Other sea species use light to survive in the upper layers, but how? Some, such as certain shrimp and squid, illuminate their bellies to match the light coming from above. This allows them to become invisible to predators below. Their light can be turned on and off at will, some even have a dimmer switch. For example, certain types of shrimp can alter how much light they give off, depending on the brightness of the water around them. If a cloud passes overhead and briefly blocks the light, the shrimp will dim itself accordingly.\n",
        "But if the aim is to remain invisible, why do some creatures light up when they are touched, or when the water nearby is disturbed? A couple of reasons. First, a sudden burst of light may startle a predator, giving the prey a chance to escape. Some kinds of deep-sea squid, for example, give a big squirt of light before darting off into the gloom.\n",
        "Second, there is the principle of ‘the enemy of my enemy is my friend.’ Giving off light can help summon the predator of your predator. Known as the burglar alarm effect, this is especially useful for tiny life forms, such as dinoflagellates, that cannot swim fast. For such small beings, water is too viscous to allow a quick getaway, it would be like trying to swim through syrup. Instead, when threatened by a shrimp, for example, these organisms light up. The flashes attract larger fish that are better able to spot, and eat, the shrimp. The chief defense for these tiny organisms is therefore not fight or flight, but light.\n",
        "\"\"\""
      ],
      "metadata": {
        "id": "Lrh1BBeWZ_w6"
      },
      "execution_count": 21,
      "outputs": []
    },
    {
      "cell_type": "markdown",
      "source": [
        "## Or upload texts on colab:"
      ],
      "metadata": {
        "id": "fqsmnhZ2UhMF"
      }
    },
    {
      "cell_type": "code",
      "source": [
        "# # or upload your text file here\n",
        "# from google.colab import files\n",
        "# text = files.upload(); print(type(text))"
      ],
      "metadata": {
        "id": "CnefWnB0coWX"
      },
      "execution_count": 42,
      "outputs": []
    },
    {
      "cell_type": "code",
      "source": [
        "# Load your file on colab and then read it\n",
        "\n",
        "file = open('Ch02.txt')\n",
        "text = file.read()\n",
        "file.close()"
      ],
      "metadata": {
        "id": "7XcffuAratN2"
      },
      "execution_count": 43,
      "outputs": []
    },
    {
      "cell_type": "code",
      "source": [
        "tok = ld.tokenize(text)"
      ],
      "metadata": {
        "id": "CdK_Y4yHfK5H"
      },
      "execution_count": 44,
      "outputs": []
    },
    {
      "cell_type": "code",
      "source": [
        "print('First 10 tokenized words:', tok[:10])\n",
        "print('Total number of tokenized words:', len(tok))"
      ],
      "metadata": {
        "colab": {
          "base_uri": "https://localhost:8080/"
        },
        "id": "j_zUeDsjfp6_",
        "outputId": "e7d48897-a9f3-43aa-c701-0c7f74837955"
      },
      "execution_count": 29,
      "outputs": [
        {
          "output_type": "stream",
          "name": "stdout",
          "text": [
            "First 10 tokenized words: ['living', 'light', 'the', 'ability', 'of', 'some', 'species', 'to', 'create', 'light']\n",
            "Total number of tokenized words: 580\n"
          ]
        }
      ]
    },
    {
      "cell_type": "markdown",
      "source": [
        "# Lemmatize using flemmatize():\n",
        "\n",
        "- Captial to lower case\n",
        "- Contraction forms => apostrphe deletion\n",
        "- Tense: saw > see\n",
        "- Plurality: friends > friend, children > child\n",
        "\n",
        "  e.g., don't > dont, John's > johns, wanna > wanna"
      ],
      "metadata": {
        "id": "P1jRQsyniwC2"
      }
    },
    {
      "cell_type": "code",
      "source": [
        "flt = ld.flemmatize(text)\n",
        "\n",
        "# Show first 10 items\n",
        "print(flt[:10])\n",
        "\n",
        "# See how [hasn't] is lemmatized:\n",
        "ld.flemmatize(\"hasn't\")"
      ],
      "metadata": {
        "id": "o0D_dGBih8h5",
        "outputId": "c116ec21-e5f1-4ef7-a803-1733206c140b",
        "colab": {
          "base_uri": "https://localhost:8080/"
        }
      },
      "execution_count": 45,
      "outputs": [
        {
          "output_type": "stream",
          "name": "stdout",
          "text": [
            "['living', 'light', 'the', 'ability', 'of', 'some', 'species', 'to', 'create', 'light']\n"
          ]
        },
        {
          "output_type": "execute_result",
          "data": {
            "text/plain": [
              "['hasnt']"
            ]
          },
          "metadata": {},
          "execution_count": 45
        }
      ]
    },
    {
      "cell_type": "markdown",
      "source": [
        "# Lexical Diversity indices:\n",
        "\n",
        "## [1] TTR (Type-Token ratio) = Type / Token: \n",
        "\n",
        "e.g., unique words = 400, Token = 1,000\n",
        "TTR = 400 / 1,000 = 0.4\n",
        "\n",
        "- It is a measure of vocabulary ***variation*** within a written text or a speech\n",
        "\n",
        "- The closer the TTR ratio is to 1, the greater the lexical richness of the segment.\n",
        "\n",
        "* Note: TTR values vary in accordance with the length of the text. That is, TTR’s are not comparable unless they are based on texts of the same length. \n",
        "\n",
        "=> STTR (Standardized TTR): You can get an average type/token ratio based on consecutive 1,000-word chunks of text. (Texts with less than 1,000 words will get a standardised type/token ratio of 0.)"
      ],
      "metadata": {
        "id": "II7Amu12lCCX"
      }
    },
    {
      "cell_type": "markdown",
      "source": [
        "References\n",
        "Johnson (1939) Language and Speech Hygiene: an Application of General Semantics: Outline of a Course (Chicago)."
      ],
      "metadata": {
        "id": "_EksYVihyZTo"
      }
    },
    {
      "cell_type": "code",
      "source": [
        "ld.ttr(flt)"
      ],
      "metadata": {
        "colab": {
          "base_uri": "https://localhost:8080/"
        },
        "id": "4GImz-ZVkNyi",
        "outputId": "80c80ee5-65b9-4b98-c939-c98183e326b0"
      },
      "execution_count": 46,
      "outputs": [
        {
          "output_type": "execute_result",
          "data": {
            "text/plain": [
              "0.45689655172413796"
            ]
          },
          "metadata": {},
          "execution_count": 46
        }
      ]
    },
    {
      "cell_type": "markdown",
      "source": [
        "## [2] The Root TTR:\n",
        "Guiraud (1959) Probl&egrave;mes et m&eacute;thodes de la statistique linguistique (Dordrecht)."
      ],
      "metadata": {
        "id": "wE4B2Ynnx_co"
      }
    },
    {
      "cell_type": "code",
      "source": [
        "ld.root_ttr(flt)"
      ],
      "metadata": {
        "colab": {
          "base_uri": "https://localhost:8080/"
        },
        "id": "x8-lYx_NxKO7",
        "outputId": "1c0ca5f9-9ef2-4f61-9e35-620df21a01fa"
      },
      "execution_count": 47,
      "outputs": [
        {
          "output_type": "execute_result",
          "data": {
            "text/plain": [
              "11.003526080620546"
            ]
          },
          "metadata": {},
          "execution_count": 47
        }
      ]
    },
    {
      "cell_type": "markdown",
      "source": [
        "## [3] Log TTR:\n",
        "Chotlos (1944); Herdan (1960)"
      ],
      "metadata": {
        "id": "Wvgzu2CHznNu"
      }
    },
    {
      "cell_type": "code",
      "source": [
        "ld.log_ttr(flt)"
      ],
      "metadata": {
        "colab": {
          "base_uri": "https://localhost:8080/"
        },
        "id": "PwYtRBlOzsPV",
        "outputId": "9181fd34-4adf-40cd-f273-ef938c028946"
      },
      "execution_count": 48,
      "outputs": [
        {
          "output_type": "execute_result",
          "data": {
            "text/plain": [
              "0.8768985041699869"
            ]
          },
          "metadata": {},
          "execution_count": 48
        }
      ]
    },
    {
      "cell_type": "markdown",
      "source": [
        "## [4] MASS TTR"
      ],
      "metadata": {
        "id": "TJNDNYOO2FL5"
      }
    },
    {
      "cell_type": "code",
      "source": [
        "ld.maas_ttr(flt)"
      ],
      "metadata": {
        "colab": {
          "base_uri": "https://localhost:8080/"
        },
        "id": "UepKruoz0PhS",
        "outputId": "0a6c855e-81da-47a8-9530-c7817e69ccd3"
      },
      "execution_count": 49,
      "outputs": [
        {
          "output_type": "execute_result",
          "data": {
            "text/plain": [
              "0.044546663099875504"
            ]
          },
          "metadata": {},
          "execution_count": 49
        }
      ]
    },
    {
      "cell_type": "markdown",
      "source": [
        "## [5] the mean segmental type-token ratio (MSTTR):\n",
        "=> the average of the TTR’s of several consecutive equal-sized samples.\n",
        "\n",
        "Johnson (1944), which"
      ],
      "metadata": {
        "id": "pOvjf3jlz64W"
      }
    },
    {
      "cell_type": "code",
      "source": [
        "# Default window length = 50\n",
        "ld.msttr(flt)\n",
        "ld.msttr(flt,window_length=1000)"
      ],
      "metadata": {
        "colab": {
          "base_uri": "https://localhost:8080/"
        },
        "id": "ozgnw66roX4b",
        "outputId": "64343d2a-ea2e-485e-dd74-ebfd71864c33"
      },
      "execution_count": 50,
      "outputs": [
        {
          "output_type": "execute_result",
          "data": {
            "text/plain": [
              "0.45689655172413796"
            ]
          },
          "metadata": {},
          "execution_count": 50
        }
      ]
    },
    {
      "cell_type": "markdown",
      "source": [
        "## [6] Moving average TTR (MATTR)"
      ],
      "metadata": {
        "id": "XQnRVpHr0jC_"
      }
    },
    {
      "cell_type": "code",
      "source": [
        "ld.mattr(flt)\n",
        "ld.mattr(flt,window_length=25)"
      ],
      "metadata": {
        "colab": {
          "base_uri": "https://localhost:8080/"
        },
        "id": "XEZeozh90iLS",
        "outputId": "71dbe6e4-23f8-4ba9-eefc-a0cfcb565fb4"
      },
      "execution_count": 51,
      "outputs": [
        {
          "output_type": "execute_result",
          "data": {
            "text/plain": [
              "0.8894244604316532"
            ]
          },
          "metadata": {},
          "execution_count": 51
        }
      ]
    },
    {
      "cell_type": "markdown",
      "source": [
        "## [7] Hypergeometric distribution D (HDD)\n",
        "\n",
        "A more straightforward and reliable implementation of vocD (Malvern, Richards, Chipere, & Duran, 2004) as per McCarthy and Jarvis (2007, 2010)."
      ],
      "metadata": {
        "id": "riQz4oym0vUt"
      }
    },
    {
      "cell_type": "code",
      "source": [
        "ld.hdd(flt)"
      ],
      "metadata": {
        "id": "UMaahRIu0u3W",
        "outputId": "48f6ab4f-9447-4cde-9192-18d5ca678e3b",
        "colab": {
          "base_uri": "https://localhost:8080/"
        }
      },
      "execution_count": 52,
      "outputs": [
        {
          "output_type": "execute_result",
          "data": {
            "text/plain": [
              "0.8330696824693798"
            ]
          },
          "metadata": {},
          "execution_count": 52
        }
      ]
    },
    {
      "cell_type": "markdown",
      "source": [
        "## [8] Measure of lexical textual diversity (MTLD)\n",
        "\n",
        "Calculates MTLD based on McCarthy and Jarvis (2010)."
      ],
      "metadata": {
        "id": "QgAyPGpL02qd"
      }
    },
    {
      "cell_type": "code",
      "source": [
        "ld.mtld(flt)"
      ],
      "metadata": {
        "id": "IWej8SCX02Ro",
        "outputId": "3be800d5-0736-4438-c943-a891d34621ee",
        "colab": {
          "base_uri": "https://localhost:8080/"
        }
      },
      "execution_count": 53,
      "outputs": [
        {
          "output_type": "execute_result",
          "data": {
            "text/plain": [
              "82.85714285714286"
            ]
          },
          "metadata": {},
          "execution_count": 53
        }
      ]
    },
    {
      "cell_type": "markdown",
      "source": [
        "## [9] the bilogarithmic type-token ratio:\n",
        " (Log TTR, Chotlos, 1944; Herdan, 1960); and"
      ],
      "metadata": {
        "id": "zTud5WWVzXJX"
      }
    },
    {
      "cell_type": "markdown",
      "source": [
        "Measure of lexical textual diversity (moving average, wrap)\n",
        "Calculates MTLD using a moving window approach. Instead of calculating partial factors, it wraps to the beginning of the text to complete the last factors."
      ],
      "metadata": {
        "id": "TDQB4MUA08FA"
      }
    },
    {
      "cell_type": "code",
      "source": [
        "ld.mtld_ma_wrap(flt)"
      ],
      "metadata": {
        "id": "5OUfJ0bp05W5",
        "outputId": "6be332f4-de95-4fa6-d201-1e60c89331ff",
        "colab": {
          "base_uri": "https://localhost:8080/"
        }
      },
      "execution_count": 54,
      "outputs": [
        {
          "output_type": "execute_result",
          "data": {
            "text/plain": [
              "78.3396551724138"
            ]
          },
          "metadata": {},
          "execution_count": 54
        }
      ]
    },
    {
      "cell_type": "markdown",
      "source": [
        "## [10] Measure of lexical textual diversity (moving average, bi-directional)\n",
        "Calculates the average MTLD score by calculating MTLD in each direction using a moving window approach."
      ],
      "metadata": {
        "id": "blW67ofn1DiQ"
      }
    },
    {
      "cell_type": "code",
      "source": [
        "ld.mtld_ma_bid(flt)"
      ],
      "metadata": {
        "id": "BjUhl5zN1DOw",
        "outputId": "0eabbb4c-8801-4940-e473-16ddf118e492",
        "colab": {
          "base_uri": "https://localhost:8080/"
        }
      },
      "execution_count": 55,
      "outputs": [
        {
          "output_type": "execute_result",
          "data": {
            "text/plain": [
              "75.21785518411285"
            ]
          },
          "metadata": {},
          "execution_count": 55
        }
      ]
    }
  ]
}