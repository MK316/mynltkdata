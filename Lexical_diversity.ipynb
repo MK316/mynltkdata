{
  "nbformat": 4,
  "nbformat_minor": 0,
  "metadata": {
    "colab": {
      "name": "Lexical_diversity.ipynb",
      "provenance": [],
      "authorship_tag": "ABX9TyPM8IIwjx5pADPkKjvticDH",
      "include_colab_link": true
    },
    "kernelspec": {
      "name": "python3",
      "display_name": "Python 3"
    },
    "language_info": {
      "name": "python"
    }
  },
  "cells": [
    {
      "cell_type": "markdown",
      "metadata": {
        "id": "view-in-github",
        "colab_type": "text"
      },
      "source": [
        "<a href=\"https://colab.research.google.com/github/MK316/mynltkdata/blob/main/Lexical_diversity.ipynb\" target=\"_parent\"><img src=\"https://colab.research.google.com/assets/colab-badge.svg\" alt=\"Open In Colab\"/></a>"
      ]
    },
    {
      "cell_type": "markdown",
      "source": [
        "# [Lexical Diversity (LD)](\"https://textinspector.com/help/lexical-diversity/\")\n",
        "- Lexical diversity index: It is a measurement of how many different lexical words (N, V, Adv, Advj) are found in a given text.\n",
        "- LD is considered as one of the important indicators of how complex and difficult to read a given text is.\n",
        "\n",
        "[Duran et al. 2004](\"https://psycnet.apa.org/record/2004-95315-004\"): “…lexical diversity is about more than vocabulary range.  Alternative terms, ‘flexibility’, ‘vocabulary richness’, ‘verbal creativity’, or ‘lexical range and balance’ indicate that it has to do with how vocabulary is deployed as well as how large the vocabulary might be.” \n",
        "[D scale from (Duran, Malvern, Richards, Chipere 2004:238)] (\"https://textinspector.com/wp-content/uploads/2020/12/VocD-comparison-1.jpeg\")"
      ],
      "metadata": {
        "id": "EFdRSccoaf0p"
      }
    },
    {
      "cell_type": "markdown",
      "source": [
        "# Package to install and import"
      ],
      "metadata": {
        "id": "BT2omns8cAU2"
      }
    },
    {
      "cell_type": "code",
      "execution_count": 8,
      "metadata": {
        "id": "oZJw4xBlacJJ",
        "colab": {
          "base_uri": "https://localhost:8080/"
        },
        "outputId": "6c2d58af-2b3e-4aa2-e5aa-19f974c52faf"
      },
      "outputs": [
        {
          "output_type": "stream",
          "name": "stdout",
          "text": [
            "Collecting lexical-diversity\n",
            "  Downloading lexical_diversity-0.1.1-py3-none-any.whl (117 kB)\n",
            "\u001b[?25l\r\u001b[K     |██▉                             | 10 kB 19.9 MB/s eta 0:00:01\r\u001b[K     |█████▋                          | 20 kB 17.4 MB/s eta 0:00:01\r\u001b[K     |████████▍                       | 30 kB 11.3 MB/s eta 0:00:01\r\u001b[K     |███████████▏                    | 40 kB 9.7 MB/s eta 0:00:01\r\u001b[K     |██████████████                  | 51 kB 4.5 MB/s eta 0:00:01\r\u001b[K     |████████████████▊               | 61 kB 5.3 MB/s eta 0:00:01\r\u001b[K     |███████████████████▌            | 71 kB 5.7 MB/s eta 0:00:01\r\u001b[K     |██████████████████████▎         | 81 kB 5.9 MB/s eta 0:00:01\r\u001b[K     |█████████████████████████       | 92 kB 6.6 MB/s eta 0:00:01\r\u001b[K     |███████████████████████████▉    | 102 kB 5.1 MB/s eta 0:00:01\r\u001b[K     |██████████████████████████████▋ | 112 kB 5.1 MB/s eta 0:00:01\r\u001b[K     |████████████████████████████████| 117 kB 5.1 MB/s \n",
            "\u001b[?25hInstalling collected packages: lexical-diversity\n",
            "Successfully installed lexical-diversity-0.1.1\n"
          ]
        }
      ],
      "source": [
        "!pip install lexical-diversity"
      ]
    },
    {
      "cell_type": "code",
      "source": [
        "from lexical_diversity import lex_div as ld"
      ],
      "metadata": {
        "id": "fFTaWF4zcUwl"
      },
      "execution_count": 9,
      "outputs": []
    },
    {
      "cell_type": "markdown",
      "source": [
        "## Paste your text: two texts to cocmpare\n",
        "\n",
        "e.g., \n",
        "text1: Dove and Ant (478 tokens, Aesop fable), TTR(0.457), Root TTR(6.1), \n",
        "text2: National geography reading level 4 (3,381 tokens)"
      ],
      "metadata": {
        "id": "MUZeMgIZcbMK"
      }
    },
    {
      "cell_type": "code",
      "source": [
        "text1 = \"\"\"A Dove saw an Ant fall into a brook. The Ant struggled in vain to reach the bank, \\\n",
        "and in pity, the Dove dropped a blade of straw close beside it. Clinging to the straw like a shipwrecked sailor to a broken spar, \\\n",
        "the Ant floated safely to shore. Soon after, the Ant saw a man getting ready to kill the Dove with a stone. \\\n",
        "But just as he cast the stone, the Ant stung him in the heel, so that the pain made him miss his aim, \\\n",
        "and the startled Dove flew to safety in a distant wood.\n",
        "\"\"\""
      ],
      "metadata": {
        "id": "IEjTJDscck_y"
      },
      "execution_count": 6,
      "outputs": []
    },
    {
      "cell_type": "code",
      "source": [
        "text2 = \"\"\"Living light\n",
        "The ability of some species to create light, known as bioluminescence, is both magical and commonplace. Magical, because of its glimmering beauty. Commonplace, because many life forms can do it. On land the most familiar examples are fireflies, flashing to attract mates on a warm summer night. But there are other luminous land organisms, including glow-worms, millipedes, and some ninety species of fungus. Even some birds, such as the Atlantic puffin, have beaks that glow in the dark.\n",
        "But the real biological light show takes place in the sea. Here, an astonishing number of beings can make light. Some, such as ostracods, are like ocean fireflies, using flashes of light to attract mate. There are also glowing bacteria, and light-making fish, squid, and jellyfish. Indeed, of all the groups of organisms known to make light, more than four-fifths live in the ocean.\n",
        "As a place to live, the ocean has a couple of peculiarities. Firstly, there is almost nowhere to hide, so being invisible is very important. Secondly, as you descend, sunlight disappears. At first, red light is absorbed. Then the yellow and green parts of the spectrum disappear, leaving just the blue. At two-hundred meters below the surface, the ocean becomes a kind of perpetual twilight, and at six-hundred meters the blue fades out too. In fact, most of the ocean is as black as the night sky. These factors make light uniquely useful as a weapon or a veil.\n",
        "Hiding with light\n",
        "In the ocean’s upper layers, where light penetrates, creatures need to blend in to survive. Any life form that stands out is in danger of being spotted by predators, especially those swimming below, looking up. Many life forms solve this problem by avoiding the light zone during the day. Others, such as jellyfish and swimming snails, are transparent, ghostlike creatures, almost impossible to see.\n",
        "Other sea species use light to survive in the upper layers, but how? Some, such as certain shrimp and squid, illuminate their bellies to match the light coming from above. This allows them to become invisible to predators below. Their light can be turned on and off at will, some even have a dimmer switch. For example, certain types of shrimp can alter how much light they give off, depending on the brightness of the water around them. If a cloud passes overhead and briefly blocks the light, the shrimp will dim itself accordingly.\n",
        "But if the aim is to remain invisible, why do some creatures light up when they are touched, or when the water nearby is disturbed? A couple of reasons. First, a sudden burst of light may startle a predator, giving the prey a chance to escape. Some kinds of deep-sea squid, for example, give a big squirt of light before darting off into the gloom.\n",
        "Second, there is the principle of ‘the enemy of my enemy is my friend.’ Giving off light can help summon the predator of your predator. Known as the burglar alarm effect, this is especially useful for tiny life forms, such as dinoflagellates, that cannot swim fast. For such small beings, water is too viscous to allow a quick getaway, it would be like trying to swim through syrup. Instead, when threatened by a shrimp, for example, these organisms light up. The flashes attract larger fish that are better able to spot, and eat, the shrimp. The chief defense for these tiny organisms is therefore not fight or flight, but light.\n",
        "\"\"\""
      ],
      "metadata": {
        "id": "Lrh1BBeWZ_w6"
      },
      "execution_count": 13,
      "outputs": []
    },
    {
      "cell_type": "code",
      "source": [
        "print(len(text1))\n",
        "print(len(text2))"
      ],
      "metadata": {
        "id": "lSAFSJJH00a-",
        "outputId": "8866f8c8-6e63-4491-bdde-51d54c106ecd",
        "colab": {
          "base_uri": "https://localhost:8080/"
        }
      },
      "execution_count": 14,
      "outputs": [
        {
          "output_type": "stream",
          "name": "stdout",
          "text": [
            "478\n",
            "3381\n"
          ]
        }
      ]
    },
    {
      "cell_type": "markdown",
      "source": [
        "## Or upload texts on colab:"
      ],
      "metadata": {
        "id": "fqsmnhZ2UhMF"
      }
    },
    {
      "cell_type": "code",
      "source": [
        "# # or upload your text file here\n",
        "# from google.colab import files\n",
        "# text = files.upload(); print(type(text))"
      ],
      "metadata": {
        "id": "CnefWnB0coWX"
      },
      "execution_count": 42,
      "outputs": []
    },
    {
      "cell_type": "code",
      "source": [
        "# # Load your file on colab and then read it\n",
        "\n",
        "# file = open('Ch02.txt')\n",
        "# text = file.read()\n",
        "# file.close()"
      ],
      "metadata": {
        "id": "7XcffuAratN2"
      },
      "execution_count": 43,
      "outputs": []
    },
    {
      "cell_type": "code",
      "source": [
        "tok1 = ld.tokenize(text1)\n",
        "tok2 = ld.tokenize(text2)"
      ],
      "metadata": {
        "id": "CdK_Y4yHfK5H"
      },
      "execution_count": 15,
      "outputs": []
    },
    {
      "cell_type": "code",
      "source": [
        "print('First 10 tokenized words:', tok1[:10])\n",
        "print('Total number of tokenized words:', len(tok1))"
      ],
      "metadata": {
        "colab": {
          "base_uri": "https://localhost:8080/"
        },
        "id": "j_zUeDsjfp6_",
        "outputId": "712b6e18-e51f-464b-a776-62bca75bcfeb"
      },
      "execution_count": 16,
      "outputs": [
        {
          "output_type": "stream",
          "name": "stdout",
          "text": [
            "First 10 tokenized words: ['a', 'dove', 'saw', 'an', 'ant', 'fall', 'into', 'a', 'brook', 'the']\n",
            "Total number of tokenized words: 100\n"
          ]
        }
      ]
    },
    {
      "cell_type": "markdown",
      "source": [
        "# Lemmatize using flemmatize():\n",
        "\n",
        "- Captial to lower case\n",
        "- Contraction forms => apostrphe deletion\n",
        "- Tense: saw > see\n",
        "- Plurality: friends > friend, children > child\n",
        "\n",
        "  e.g., don't > dont, John's > johns, wanna > wanna"
      ],
      "metadata": {
        "id": "P1jRQsyniwC2"
      }
    },
    {
      "cell_type": "code",
      "source": [
        "flt1 = ld.flemmatize(text1)\n",
        "flt2 = ld.flemmatize(text2)\n",
        "\n",
        "# Show first 10 items\n",
        "print(flt[1:10])\n",
        "\n",
        "# See how [hasn't] is lemmatized:\n",
        "ld.flemmatize(\"hasn't\")"
      ],
      "metadata": {
        "id": "o0D_dGBih8h5",
        "colab": {
          "base_uri": "https://localhost:8080/"
        },
        "outputId": "454170ee-084c-4775-f458-5c2bcdc3dcf1"
      },
      "execution_count": 17,
      "outputs": [
        {
          "output_type": "stream",
          "name": "stdout",
          "text": [
            "['dove', 'see', 'a', 'ant', 'fall', 'into', 'a', 'brook', 'the']\n"
          ]
        },
        {
          "output_type": "execute_result",
          "data": {
            "text/plain": [
              "['hasnt']"
            ]
          },
          "metadata": {},
          "execution_count": 17
        }
      ]
    },
    {
      "cell_type": "markdown",
      "source": [
        "# Lexical Diversity indices:\n",
        "\n",
        "## [1] TTR (Type-Token ratio) = Type / Token: \n",
        "\n",
        "e.g., unique words = 400, Token = 1,000\n",
        "TTR = 400 / 1,000 = 0.4\n",
        "\n",
        "- It is a measure of vocabulary ***variation*** within a written text or a speech\n",
        "\n",
        "- The closer the TTR ratio is to 1, the greater the lexical richness of the segment.\n",
        "\n",
        "* Note: TTR values vary in accordance with the length of the text. That is, TTR’s are not comparable unless they are based on texts of the same length. \n",
        "\n",
        "=> STTR (Standardized TTR): You can get an average type/token ratio based on consecutive 1,000-word chunks of text. (Texts with less than 1,000 words will get a standardised type/token ratio of 0.)"
      ],
      "metadata": {
        "id": "II7Amu12lCCX"
      }
    },
    {
      "cell_type": "markdown",
      "source": [
        "References\n",
        "Johnson (1939) Language and Speech Hygiene: an Application of General Semantics: Outline of a Course (Chicago)."
      ],
      "metadata": {
        "id": "_EksYVihyZTo"
      }
    },
    {
      "cell_type": "code",
      "source": [
        "ttr1 = ld.ttr(flt1)\n",
        "ttr2 = ld.ttr(flt2)\n",
        "print(ttr1, ttr2)"
      ],
      "metadata": {
        "colab": {
          "base_uri": "https://localhost:8080/"
        },
        "id": "4GImz-ZVkNyi",
        "outputId": "135f4108-476d-4eb3-fd0f-3dcb218196b4"
      },
      "execution_count": 23,
      "outputs": [
        {
          "output_type": "stream",
          "name": "stdout",
          "text": [
            "0.61 0.45689655172413796\n"
          ]
        }
      ]
    },
    {
      "cell_type": "markdown",
      "source": [
        "## [2] The Root TTR:\n",
        "Guiraud (1959) Probl&egrave;mes et m&eacute;thodes de la statistique linguistique (Dordrecht)."
      ],
      "metadata": {
        "id": "wE4B2Ynnx_co"
      }
    },
    {
      "cell_type": "code",
      "source": [
        "rttr1 = ld.root_ttr(flt1)\n",
        "rttr2 = ld.root_ttr(flt2)\n",
        "print(rttr1,rttr2)"
      ],
      "metadata": {
        "colab": {
          "base_uri": "https://localhost:8080/"
        },
        "id": "x8-lYx_NxKO7",
        "outputId": "d3ae1261-0d66-4e75-8511-3152f3712532"
      },
      "execution_count": 25,
      "outputs": [
        {
          "output_type": "stream",
          "name": "stdout",
          "text": [
            "6.1 11.003526080620546\n"
          ]
        }
      ]
    },
    {
      "cell_type": "markdown",
      "source": [
        "## [3] Log TTR:\n",
        "Chotlos (1944); Herdan (1960)"
      ],
      "metadata": {
        "id": "Wvgzu2CHznNu"
      }
    },
    {
      "cell_type": "code",
      "source": [
        "logttr1 = ld.log_ttr(flt1)\n",
        "logttr2 = ld.log_ttr(flt2)"
      ],
      "metadata": {
        "id": "PwYtRBlOzsPV"
      },
      "execution_count": 26,
      "outputs": []
    },
    {
      "cell_type": "markdown",
      "source": [
        "## [4] MASS TTR"
      ],
      "metadata": {
        "id": "TJNDNYOO2FL5"
      }
    },
    {
      "cell_type": "code",
      "source": [
        "msttr1 = ld.maas_ttr(flt1)\n",
        "msttr2 = ld.maas_ttr(flt2)"
      ],
      "metadata": {
        "id": "UepKruoz0PhS"
      },
      "execution_count": 28,
      "outputs": []
    },
    {
      "cell_type": "markdown",
      "source": [
        "## [5] the mean segmental type-token ratio (MSTTR):\n",
        "=> the average of the TTR’s of several consecutive equal-sized samples.\n",
        "\n",
        "Johnson (1944), which"
      ],
      "metadata": {
        "id": "pOvjf3jlz64W"
      }
    },
    {
      "cell_type": "code",
      "source": [
        "# Default window length = 50\n",
        "fdttr1 = ld.msttr(flt1)\n",
        "fdttr2 = ld.msttr(flt1,window_length=1000)"
      ],
      "metadata": {
        "id": "ozgnw66roX4b"
      },
      "execution_count": 29,
      "outputs": []
    },
    {
      "cell_type": "markdown",
      "source": [
        "## [6] Moving average TTR (MATTR)"
      ],
      "metadata": {
        "id": "XQnRVpHr0jC_"
      }
    },
    {
      "cell_type": "code",
      "source": [
        "mattr1 = ld.mattr(flt1); mattr2 = ld.mattr(flt2)\n",
        "mattr2 = ld.mattr(flt1,window_length=25); ld.mattr(flt2, window_length=25)"
      ],
      "metadata": {
        "colab": {
          "base_uri": "https://localhost:8080/"
        },
        "id": "XEZeozh90iLS",
        "outputId": "b2750ac0-e520-4be6-a698-35708349d305"
      },
      "execution_count": 31,
      "outputs": [
        {
          "output_type": "execute_result",
          "data": {
            "text/plain": [
              "0.8894244604316532"
            ]
          },
          "metadata": {},
          "execution_count": 31
        }
      ]
    },
    {
      "cell_type": "markdown",
      "source": [
        "## [7] Hypergeometric distribution D (HDD)\n",
        "\n",
        "A more straightforward and reliable implementation of vocD (Malvern, Richards, Chipere, & Duran, 2004) as per McCarthy and Jarvis (2007, 2010)."
      ],
      "metadata": {
        "id": "riQz4oym0vUt"
      }
    },
    {
      "cell_type": "code",
      "source": [
        "hdd1 = ld.hdd(flt1)\n",
        "hdd2 = ld.hdd(flt2)"
      ],
      "metadata": {
        "id": "UMaahRIu0u3W"
      },
      "execution_count": 32,
      "outputs": []
    },
    {
      "cell_type": "markdown",
      "source": [
        "## [8] Measure of lexical textual diversity (MTLD)\n",
        "\n",
        "Calculates MTLD based on McCarthy and Jarvis (2010)."
      ],
      "metadata": {
        "id": "QgAyPGpL02qd"
      }
    },
    {
      "cell_type": "code",
      "source": [
        "mtld1 = ld.mtld(flt1)\n",
        "mtld2 = ld.mtld(flt2)"
      ],
      "metadata": {
        "id": "IWej8SCX02Ro"
      },
      "execution_count": 33,
      "outputs": []
    },
    {
      "cell_type": "markdown",
      "source": [
        "## [9] the bilogarithmic type-token ratio:\n",
        " (Log TTR, Chotlos, 1944; Herdan, 1960); and"
      ],
      "metadata": {
        "id": "zTud5WWVzXJX"
      }
    },
    {
      "cell_type": "markdown",
      "source": [
        "Measure of lexical textual diversity (moving average, wrap)\n",
        "Calculates MTLD using a moving window approach. Instead of calculating partial factors, it wraps to the beginning of the text to complete the last factors."
      ],
      "metadata": {
        "id": "TDQB4MUA08FA"
      }
    },
    {
      "cell_type": "code",
      "source": [
        "bilog1 = ld.mtld_ma_wrap(flt1)\n",
        "bilog2 = ld.mtld_ma_wrap(flt2)"
      ],
      "metadata": {
        "id": "5OUfJ0bp05W5"
      },
      "execution_count": 37,
      "outputs": []
    },
    {
      "cell_type": "markdown",
      "source": [
        "## [10] Measure of lexical textual diversity (moving average, bi-directional)\n",
        "Calculates the average MTLD score by calculating MTLD in each direction using a moving window approach."
      ],
      "metadata": {
        "id": "blW67ofn1DiQ"
      }
    },
    {
      "cell_type": "code",
      "source": [
        "ma1 = ld.mtld_ma_bid(flt1)\n",
        "ma2 = ld.mtld_ma_bid(flt2)"
      ],
      "metadata": {
        "id": "BjUhl5zN1DOw"
      },
      "execution_count": 35,
      "outputs": []
    },
    {
      "cell_type": "markdown",
      "source": [
        ""
      ],
      "metadata": {
        "id": "lYlHIwtc4of4"
      }
    },
    {
      "cell_type": "code",
      "source": [
        "c1 = c(ttr1, rttr1, logttr1, mattr1, hdd1, mtld1,bilog1, ma1)"
      ],
      "metadata": {
        "id": "HO0Gw02p4GBm"
      },
      "execution_count": null,
      "outputs": []
    }
  ]
}